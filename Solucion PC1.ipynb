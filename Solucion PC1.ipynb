{
 "cells": [
  {
   "cell_type": "markdown",
   "metadata": {},
   "source": [
    "#1 Escribir un programa que solicite su nombre de usuario por consola y después de que el usuario lo\n",
    "introduzca muestre por pantalla la cadena “¡Hola <nombre>!”, donde <nombre> es el nombre que el\n",
    "usuario haya introducido"
   ]
  },
  {
   "cell_type": "code",
   "execution_count": 4,
   "metadata": {},
   "outputs": [
    {
     "name": "stdout",
     "output_type": "stream",
     "text": [
      "¡Hola Michael !\n"
     ]
    }
   ],
   "source": [
    "# Solicitar nombre de usuario \n",
    "usuario = input(\"Ingresar tu nombre de usuario: \")\n",
    "\n",
    "# Mostrar un saludo\n",
    "print(\"¡Hola\", usuario, \"!\")"
   ]
  },
  {
   "cell_type": "markdown",
   "metadata": {},
   "source": [
    "#2 En los Estados Unidos, se acostumbra dejar una propina a su mesero después de cenar en un\n",
    "restaurante, generalmente una cantidad igual al 15% o más del costo de su comida.\n",
    "Escriba un programa que pregunte al usuario cuánto fue su consumo en el restaurante y que\n",
    "porcentaje de propina desea dejar al mesero. Su programa debe devolver la cantidad de dinero a\n",
    "dejar como propina.\n"
   ]
  },
  {
   "cell_type": "code",
   "execution_count": 2,
   "metadata": {},
   "outputs": [
    {
     "name": "stdout",
     "output_type": "stream",
     "text": [
      "La cantidad de propina  que deja el usuario es: 9.0 $\n"
     ]
    }
   ],
   "source": [
    "#Solicitar monto consumo total\n",
    "monto_consumo = float(input(\"Ingresa el monto de consumo: $\"))\n",
    "# Solicitar porcentaje de propina a dejar\n",
    "porc_propina = float(input(\"Ingresar el porcentaje de propina que desea dejar: %\"))\n",
    "# Calculo de la propina\n",
    "propina = monto_consumo * (porc_propina / 100)\n",
    "# Mostrar la cantidad de propina que dejo el usuario\n",
    "print(f\"La cantidad de propina  que deja el usuario es: {propina} $\")"
   ]
  },
  {
   "cell_type": "markdown",
   "metadata": {},
   "source": [
    "#3 Una juguetería tiene mucho éxito en dos de sus productos: payasos y muñecas. Suele hacer venta\n",
    "por correo y la empresa de logística les cobra por peso de cada paquete así que deben calcular el\n",
    "peso de los payasos y muñecas que saldrán en cada paquete a demanda. Cada payaso pesa 112 g y\n",
    "cada muñeca 75 g. Escribir un programa que lea el número de payasos y muñecas vendidos en el\n",
    "último pedido y calcule el peso total del paquete que será enviado.\n"
   ]
  },
  {
   "cell_type": "code",
   "execution_count": 7,
   "metadata": {},
   "outputs": [
    {
     "name": "stdout",
     "output_type": "stream",
     "text": [
      "El peso total del paquete a enviar es de: 9350 g\n"
     ]
    }
   ],
   "source": [
    "#definir datos de los productos\n",
    "p_payaso = 112\n",
    "p_muneca = 75\n",
    "# Solicitar cantidad ventas de los productos\n",
    "num_payasos_vendidos = int(input('ingresar numero de productos payasos vendidos: '))\n",
    "num_munecas_vendidos = int(input('ingresar numero de productos muñecas vendidos: '))\n",
    "# calcular peso total\n",
    "peso_total = (num_payasos_vendidos * p_payaso) + (num_munecas_vendidos * p_muneca)\n",
    "# Mostrar resultado peso total del paquete enviado\n",
    "print(f'El peso total del paquete a enviar es de: {peso_total} g')"
   ]
  },
  {
   "cell_type": "code",
   "execution_count": null,
   "metadata": {},
   "outputs": [],
   "source": []
  }
 ],
 "metadata": {
  "kernelspec": {
   "display_name": "Python 3",
   "language": "python",
   "name": "python3"
  },
  "language_info": {
   "codemirror_mode": {
    "name": "ipython",
    "version": 3
   },
   "file_extension": ".py",
   "mimetype": "text/x-python",
   "name": "python",
   "nbconvert_exporter": "python",
   "pygments_lexer": "ipython3",
   "version": "3.10.13"
  }
 },
 "nbformat": 4,
 "nbformat_minor": 2
}
