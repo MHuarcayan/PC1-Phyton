{
 "cells": [
  {
   "cell_type": "markdown",
   "metadata": {},
   "source": [
    "#1 Escribir un programa que solicite su nombre de usuario por consola y después de que el usuario lo\n",
    "introduzca muestre por pantalla la cadena “¡Hola <nombre>!”, donde <nombre> es el nombre que el\n",
    "usuario haya introducido"
   ]
  },
  {
   "cell_type": "code",
   "execution_count": 33,
   "metadata": {},
   "outputs": [
    {
     "name": "stdout",
     "output_type": "stream",
     "text": [
      "¡Hola Michael !\n"
     ]
    }
   ],
   "source": [
    "# Solicitar nombre de usuario \n",
    "usuario = input(\"Ingresar tu nombre de usuario: \")\n",
    "\n",
    "# Mostrar un saludo\n",
    "print(\"¡Hola\", usuario, \"!\")"
   ]
  },
  {
   "cell_type": "markdown",
   "metadata": {},
   "source": [
    "#2 En los Estados Unidos, se acostumbra dejar una propina a su mesero después de cenar en un\n",
    "restaurante, generalmente una cantidad igual al 15% o más del costo de su comida.\n",
    "Escriba un programa que pregunte al usuario cuánto fue su consumo en el restaurante y que\n",
    "porcentaje de propina desea dejar al mesero. Su programa debe devolver la cantidad de dinero a\n",
    "dejar como propina.\n"
   ]
  },
  {
   "cell_type": "code",
   "execution_count": 35,
   "metadata": {},
   "outputs": [
    {
     "name": "stdout",
     "output_type": "stream",
     "text": [
      "La cantidad de propina  que deja el usuario es: 7.5 $\n"
     ]
    }
   ],
   "source": [
    "#Solicitar monto consumo total\n",
    "monto_consumo = float(input(\"Ingresa el monto de consumo: $\"))\n",
    "# Solicitar porcentaje de propina a dejar\n",
    "porc_propina = float(input(\"Ingresar el porcentaje de propina que desea dejar: %\"))\n",
    "# Calculo de la propina\n",
    "propina = monto_consumo * (porc_propina / 100)\n",
    "# Mostrar la cantidad de propina que dejo el usuario\n",
    "print(f\"La cantidad de propina  que deja el usuario es: {propina} $\")"
   ]
  },
  {
   "cell_type": "markdown",
   "metadata": {},
   "source": [
    "#3 Una juguetería tiene mucho éxito en dos de sus productos: payasos y muñecas. Suele hacer venta\n",
    "por correo y la empresa de logística les cobra por peso de cada paquete así que deben calcular el\n",
    "peso de los payasos y muñecas que saldrán en cada paquete a demanda. Cada payaso pesa 112 g y\n",
    "cada muñeca 75 g. Escribir un programa que lea el número de payasos y muñecas vendidos en el\n",
    "último pedido y calcule el peso total del paquete que será enviado.\n"
   ]
  },
  {
   "cell_type": "code",
   "execution_count": null,
   "metadata": {},
   "outputs": [
    {
     "name": "stdout",
     "output_type": "stream",
     "text": [
      "El peso total del paquete a enviar es de: 9350 g\n"
     ]
    }
   ],
   "source": [
    "#definir datos de los productos\n",
    "p_payaso = 112\n",
    "p_muneca = 75\n",
    "# Solicitar cantidad ventas de los productos\n",
    "num_payasos_vendidos = int(input('ingresar numero de productos payasos vendidos: '))\n",
    "num_munecas_vendidos = int(input('ingresar numero de productos muñecas vendidos: '))\n",
    "# calcular peso total\n",
    "peso_total = (num_payasos_vendidos * p_payaso) + (num_munecas_vendidos * p_muneca)\n",
    "# Mostrar resultado peso total del paquete enviado\n",
    "print(f'El peso total del paquete a enviar es de: {peso_total} g')"
   ]
  },
  {
   "cell_type": "markdown",
   "metadata": {},
   "source": [
    "#4 Escribir un programa que lea un entero positivo, N, introducido por el usuario y después muestre en\n",
    "pantalla la suma de todos los enteros desde 1 hasta N. La suma de los N primeros enteros positivos\n",
    "puede ser calculada de la siguiente forma:\n",
    "\n",
    "1+2+3...+n = n(n+1)/ 2\n"
   ]
  },
  {
   "cell_type": "code",
   "execution_count": null,
   "metadata": {},
   "outputs": [
    {
     "name": "stdout",
     "output_type": "stream",
     "text": [
      "La suma de todos los enteros del 1 a 8 es: 36.0\n"
     ]
    }
   ],
   "source": [
    "# definir datos numerico\n",
    "N = int(input('Ingresar un numero entero positivo: '))\n",
    "# verificar si numero entero es positivo y calculo de suma\n",
    "if N < 0:\n",
    "    print('El numero ingresado no es un entero positivo')\n",
    "else:\n",
    "    suma_enteros = N * (N + 1) / 2\n",
    "# Mostrar suma enteros 1 a N\n",
    "print('La suma de todos los enteros del 1 a', N, 'es:', suma_enteros)\n"
   ]
  },
  {
   "cell_type": "markdown",
   "metadata": {},
   "source": [
    "#5 Escribir un programa que solicite al usuario que ingrese cuántos shows musicales ha visto en el\n",
    "último año y almacene ese número en una variable. A continuación, mostrar en pantalla un valor de\n",
    "verdad (True o False - tipo de datos booleanos) que indique si el usuario ha visto más de 3 shows."
   ]
  },
  {
   "cell_type": "code",
   "execution_count": null,
   "metadata": {},
   "outputs": [
    {
     "name": "stdout",
     "output_type": "stream",
     "text": [
      "usted vio mas de 3 shows musicales este año? True\n"
     ]
    }
   ],
   "source": [
    "# datos de show vistos por usuario\n",
    "cantidad_show = int(input('Ingresar la cantidad de shows musicales vistos en el ultimo año: '))\n",
    "# Verificando si el usuario vio mas de 3 shows\n",
    "vio_mas_de_3 = cantidad_show > 3\n",
    "# Mostrando valores (falso o verdadero)\n",
    "print('usted vio mas de 3 shows musicales este año?', vio_mas_de_3)\n",
    "\n",
    "    "
   ]
  },
  {
   "cell_type": "markdown",
   "metadata": {},
   "source": [
    "#6 Escribir un programa para una empresa que tiene salas de juegos para todas las edades y quiere\n",
    "calcular de forma automática el precio que debe cobrar a sus clientes por entrar. El programa debe\n",
    "preguntar al usuario la edad del cliente y mostrar el precio de la entrada. Si el cliente es menor de 4\n",
    "años puede entrar gratis, si tiene entre 4 y 18 años debe pagar $5 y si es mayor de 18 años, S10."
   ]
  },
  {
   "cell_type": "code",
   "execution_count": 42,
   "metadata": {},
   "outputs": [
    {
     "name": "stdout",
     "output_type": "stream",
     "text": [
      "El precio de la entrada para el cliente es: $ 5\n"
     ]
    }
   ],
   "source": [
    "# solicitar datos del cliente\n",
    "edad_usuario = int(input('Por favor, ingresar su edad: '))\n",
    "# determinar precio entrada\n",
    "if edad_usuario < 4:\n",
    "    precio_entrada = 0  \n",
    "elif 4 <= edad_usuario <= 18:\n",
    "    precio_entrada = 5  \n",
    "else:\n",
    "    precio_entrada = 10 \n",
    "\n",
    "# Mostrar el precio de la entrada al cliente\n",
    "print('El precio de la entrada para el cliente es: $', precio_entrada)"
   ]
  },
  {
   "cell_type": "markdown",
   "metadata": {},
   "source": [
    "#7 Realiza un programa que lea dos números por teclado y permite elegir entre 3 opciones en un menú:\n",
    "- Mostrar una suma de los dos números\n",
    "- Mostrar una resta de los dos números (el primero menos el segundo)\n",
    "- Mostrar una multiplicación de los dos números\n",
    "- En caso de introducir una opción inválida, el programa informará de que no es correcta.\n"
   ]
  },
  {
   "cell_type": "code",
   "execution_count": 64,
   "metadata": {},
   "outputs": [
    {
     "name": "stdout",
     "output_type": "stream",
     "text": [
      "Menú:\n",
      "1. Mostrar la suma de los dos números\n",
      "2. Mostrar la resta de los dos números\n",
      "3. Mostrar la multiplicación de los dos números\n",
      "La suma de 4.0 y 4.0 es: 8.0\n"
     ]
    }
   ],
   "source": [
    "# Función para mostrar el menú y obtener la opción del usuario\n",
    "# Leer dos números por teclado\n",
    "num1 = float(input(\"Ingrese el primer número: \"))\n",
    "num2 = float(input(\"Ingrese el segundo número: \"))\n",
    "\n",
    "# usar funcion para mostrar menu\n",
    "def mostrar_menu():\n",
    "    print(\"Menú:\")\n",
    "    print(\"1. Mostrar la suma de los dos números\")\n",
    "    print(\"2. Mostrar la resta de los dos números\")\n",
    "    print(\"3. Mostrar la multiplicación de los dos números\")\n",
    "    opcion = input(\"Seleccione una opción (1, 2, 3): \")\n",
    "    return opcion\n",
    "# Mostrar el menú y obtener la opción del usuario\n",
    "opcion = mostrar_menu() \n",
    "# Realizar la operación seleccionada por el usuario\n",
    "if opcion == \"1\":\n",
    "    resultado = num1 + num2\n",
    "    print(\"La suma de\", num1, \"y\", num2, \"es:\", resultado)\n",
    "elif opcion == \"2\":\n",
    "    resultado = num1 - num2\n",
    "    print(\"La resta de\", num1, \"menos\", num2, \"es:\", resultado)\n",
    "elif opcion == \"3\":\n",
    "    resultado = num1 * num2\n",
    "    print(\"La multiplicación de\", num1, \"y\", num2, \"es:\", resultado)\n",
    "else:\n",
    "    print(\"La opcion elegida es incorrecta. Por favor, seleccione una opción válida (1, 2, 3).\")"
   ]
  },
  {
   "cell_type": "markdown",
   "metadata": {},
   "source": [
    "#8 Supongamos que estás en un país donde se acostumbra desayunar entre las 7:00 y las 8:00, almorzar\n",
    "entre las 12:00 y las 13:00 y cenar entre las 18:00 y las 19:00.\n",
    "Implemente un programa que solicite al usuario una hora y le indique si es la hora del desayuno, la\n",
    "hora del almuerzo o la hora de la cena. Si no es hora de comer, no envíes nada.\n",
    "Suponga que la entrada del usuario se formatea en formato de 24 horas como #:## o ##:##. Y\n",
    "suponga que el rango de tiempo de cada comida es inclusivo. Por ejemplo, ya sean las 7:00, las 7:01,\n",
    "las 7:59 o las 8:00, o en cualquier momento intermedio, es hora de desayunar.\n",
    "Nota:\n",
    "Recuerde que cuando solicitamos datos a través de un input este nos devuelve un str, quizás le sea\n",
    "más fácil realizar la comparación convirtiendo los datos a float.\n",
    "Ejemplo :\n",
    "Dato ingresado: “7:30” se puede interpretar como 7.5\n",
    "Para ello, podemos usar el siguiente método de cadena para facilitar la obtención del dato. Puede\n",
    "revisar otros métodos de cadena en el siguiente link.\n",
    "time = input(“hora”)\n",
    "hours, minutes = time.split(\":\")"
   ]
  },
  {
   "cell_type": "code",
   "execution_count": 80,
   "metadata": {},
   "outputs": [
    {
     "name": "stdout",
     "output_type": "stream",
     "text": [
      "Es la hora de Almorzar\n"
     ]
    }
   ],
   "source": [
    "#Programa para mostrar segun hora que comida del dia es ahora\n",
    "hora_comida = str(input(\"Ingrese la hora(ejemplo 18:50): \"))\n",
    "\n",
    "hora_comida, minutos_comida = hora_comida.split(\":\")\n",
    "hora_comida = int(hora_comida)\n",
    "minutos_comida = int(minutos_comida)\n",
    "momento_comida = None\n",
    "\n",
    "\n",
    "if 7 <= hora_comida <= 8:\n",
    "    momento_comida = \"Desayunar\"\n",
    "    print(f\"Es la hora de {momento_comida}\")\n",
    "else:\n",
    "    if 12 <= hora_comida <= 13:\n",
    "        momento_comida = \"Almorzar\"\n",
    "        print(f\"Es la hora de {momento_comida}\")\n",
    "    else:\n",
    "        if 18 <= hora_comida <= 19:\n",
    "            momento_comida = \"Cenar\"\n",
    "            print(f\"Es la hora de {momento_comida}\")"
   ]
  },
  {
   "cell_type": "markdown",
   "metadata": {},
   "source": [
    "#9 Escriba un programa que, dada una lista, devuelve una nueva lista cuyo contenido sea igual a la\n",
    "original pero invertida. Así, dada la lista ['Di', 'buen', 'día', 'a', 'papa'], deberá devolver ['papa', 'a',\n",
    "'día', 'buen', 'Di'].\n"
   ]
  },
  {
   "cell_type": "markdown",
   "metadata": {},
   "source": [
    "#10 Escriba un programa para imprimir una lista específica después de eliminar los elementos que se\n",
    "encuentran en la posición 0, 4 y 5.\n",
    "lista de muestra: ['Rojo', 'Verde', 'Blanco', 'Negro', 'Rosa', 'Amarillo']\n",
    "Resultado esperado: ['Verde', 'Blanco', 'Negro']"
   ]
  },
  {
   "cell_type": "code",
   "execution_count": null,
   "metadata": {},
   "outputs": [],
   "source": []
  },
  {
   "cell_type": "markdown",
   "metadata": {},
   "source": [
    "#11 Escriba un programa Python que se encargue de eliminar los elementos duplicados de la siguiente\n",
    "lista. Su programa debe retornar otra lista sin los duplicados.\n",
    "Lista original: [1, 1, 2, 3, 4, 4, 5, 1]\n",
    "Lista procesada: [1, 2, 3, 4,, 5]"
   ]
  },
  {
   "cell_type": "code",
   "execution_count": null,
   "metadata": {},
   "outputs": [],
   "source": []
  },
  {
   "cell_type": "markdown",
   "metadata": {},
   "source": [
    "#12 La mayoría de los archivos tienen extensiones de archivo, el cual es un sufijo que comienza con un\n",
    "punto (.) al final de su nombre. Por ejemplo, los nombres de archivo para GIF terminan en .gif y los\n",
    "nombres de archivo para JPEG terminan en .jpg o .jpeg. Mientras que en los sistemas operativos\n",
    "como Windows, el tipo de archivo le sirve al computador abrir el archivo en el formato apropiado, en\n",
    "la web esto es distinto. Los navegadores web, por el contrario, se basan en tipos de medios,\n",
    "anteriormente conocidos como tipos MIME, para determinar cómo mostrar los archivos que viven en\n",
    "la web.\n",
    "Implemente un programa que solicite al usuario el nombre de un archivo y luego genere el tipo de\n",
    "archivo MIME correspondiente. Si el nombre del archivo termina en cualquiera de estos sufijos (sin\n",
    "importar el uso de mayúsculas y minúsculas) :\n",
    "- .gif\n",
    "- .jpg\n",
    "- .jpeg\n",
    "- .png\n",
    "- .pdf\n",
    "- .txt\n",
    "- .zip\n",
    "Si el nombre del archivo termina con algún otro sufijo que no se encuentra en la lista o no tiene\n",
    "ningún sufijo, en su lugar su programa deberá devolver application/octet-stream.\n",
    "Ejemplos:\n",
    "Nombre Archivo: happy.jpg Salida Esperada: image/jpeg\n",
    "Nombre Archivo: document.pdf Salida Esperada: application/pdf\n",
    "Para conocer los tipos MIME a utilizar, puede revisar el siguiente enlace.\n",
    "Nota:\n",
    "- El empleo de diccionarios podría ayudar con esta tarea.\n",
    "- El uso de métodos de cadena sería muy útil al momento de separar el nombre del archivo de\n",
    "su extensión."
   ]
  },
  {
   "cell_type": "code",
   "execution_count": null,
   "metadata": {},
   "outputs": [],
   "source": []
  }
 ],
 "metadata": {
  "kernelspec": {
   "display_name": "Python 3",
   "language": "python",
   "name": "python3"
  },
  "language_info": {
   "codemirror_mode": {
    "name": "ipython",
    "version": 3
   },
   "file_extension": ".py",
   "mimetype": "text/x-python",
   "name": "python",
   "nbconvert_exporter": "python",
   "pygments_lexer": "ipython3",
   "version": "3.10.13"
  }
 },
 "nbformat": 4,
 "nbformat_minor": 2
}
